{
 "cells": [
  {
   "cell_type": "code",
   "execution_count": null,
   "id": "cf911e49",
   "metadata": {},
   "outputs": [],
   "source": [
    "#Import necessary modules and packages\n",
    "%matplotlib qt5\n",
    "import numpy as np\n",
    "from matplotlib import pyplot as plt\n",
    "import strid"
   ]
  },
  {
   "cell_type": "markdown",
   "id": "7e81229e",
   "metadata": {},
   "source": [
    "# Load data"
   ]
  },
  {
   "cell_type": "code",
   "execution_count": null,
   "id": "b24d4567",
   "metadata": {},
   "outputs": [],
   "source": [
    "#Load the true mode shape\n",
    "true_modeshape = 'filename'\n",
    "\n",
    "#Removing the bottom point in the true mode shape to equal number of points\n",
    "#May not be necessary if they already are of equal length\n",
    "true_modeshape = np.delete(true_modeshape, 5)\n",
    "\n",
    "#Data from points tracked in magnified video\n",
    "x_values = 'filename'\n",
    "\n",
    "#Load the points that are \n",
    "points = np.loadtxt(open(\"points.csv\", \"rb\"), delimiter=\",\")"
   ]
  },
  {
   "cell_type": "markdown",
   "id": "18626205",
   "metadata": {},
   "source": [
    "# Mode shape from magnified video based on highest MAC number"
   ]
  },
  {
   "cell_type": "markdown",
   "id": "c1600e47",
   "metadata": {},
   "source": [
    "This algorithm only works for displacements in x-direction."
   ]
  },
  {
   "cell_type": "code",
   "execution_count": null,
   "id": "ee80b07d",
   "metadata": {
    "scrolled": true
   },
   "outputs": [],
   "source": [
    "#Pick mode\n",
    "mode_nr = 1\n",
    "#Insert the natural frequencies\n",
    "Frequencies = [13.12,40.62,70.64,101.17]\n",
    "\n",
    "x_values1 = np.empty(shape=(x_values.shape[1],x_values.shape[0]),dtype='object')\n",
    "x_values2 = np.empty(shape=(x_values.shape[1],x_values.shape[0]),dtype='object')\n",
    "\n",
    "#Change the lists to correct format \n",
    "for i in range(x_values.shape[0]):\n",
    "    for j in range(x_values.shape[1]):\n",
    "        x_values2[j][i] = x_values[i][j]\n",
    "\n",
    "#Create the list of original x_values\n",
    "x_original = np.rint(x_values2[0].astype(float))\n",
    "\n",
    "#Change it to displacement around zero\n",
    "for i in range(x_values.shape[0]):\n",
    "    for j in range(x_values.shape[1]):\n",
    "        x_values1[j][i] = x_values[i][j]-x_original[0]\n",
    "\n",
    "Mac = 0\n",
    "all_Macs = []\n",
    "for i in range(x_values1.shape[0]):\n",
    "    mac = strid.modal_assurance_criterion(true_modeshape,x_values1[i])\n",
    "    all_Macs.append(mac)\n",
    "    if mac > Mac:\n",
    "        Mac = mac\n",
    "        frame = i\n",
    "print(Mac)\n",
    "print(frame)\n",
    "\n",
    "#Create the original y-points to plot\n",
    "y_original = []\n",
    "for i in range(len(points)):\n",
    "    y_original.append(-points[i][1])\n",
    "\n",
    "#Create points to plot/adding one point at the bottom\n",
    "Plot_x = np.empty(len(x_original)+1,dtype='object')\n",
    "Plot_x_original = np.empty(len(x_original)+1,dtype='object')\n",
    "for i in range(len(Plot_x)-1):\n",
    "    Plot_x[i]=x_values2[frame][i]\n",
    "    Plot_x_original[i] = x_original[i]\n",
    "Plot_x[len(Plot_x)-1] = x_original[0]\n",
    "Plot_x_original[len(Plot_x)-1] = x_original[0]\n",
    "\n",
    "#Plot\n",
    "figsize = np.array([1, 1/1.618]) * 11/2.5\n",
    "fig, ax = plt.subplots(figsize=figsize, dpi=300)\n",
    "plt.grid()\n",
    "ax.plot(Plot_x_original, y_original,\"o\", linestyle=\"-\", color=\"black\", label=\"Undeformed\") # Undeformed\n",
    "ax.plot(Plot_x, y_original,\"o\", linestyle=\"-\", color=\"blue\", label=\"EVM\")\n",
    "plt.xlim([Plot_x_original[0]-2,Plot_x_original[0]+2])\n",
    "plt.legend(loc=1)\n",
    "plt.title(\"ModeShape 1, frequency. %.2f Hz.\"%Frequencies[mode_nr-1])\n",
    "plt.tight_layout()"
   ]
  }
 ],
 "metadata": {
  "kernelspec": {
   "display_name": "Python 3 (ipykernel)",
   "language": "python",
   "name": "python3"
  },
  "language_info": {
   "codemirror_mode": {
    "name": "ipython",
    "version": 3
   },
   "file_extension": ".py",
   "mimetype": "text/x-python",
   "name": "python",
   "nbconvert_exporter": "python",
   "pygments_lexer": "ipython3",
   "version": "3.9.7"
  }
 },
 "nbformat": 4,
 "nbformat_minor": 5
}
