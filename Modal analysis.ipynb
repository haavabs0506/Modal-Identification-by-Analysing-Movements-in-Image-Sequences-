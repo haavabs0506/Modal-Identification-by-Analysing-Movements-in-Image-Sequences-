{
 "cells": [
  {
   "cell_type": "code",
   "execution_count": null,
   "id": "32bf07d9",
   "metadata": {},
   "outputs": [],
   "source": [
    "#Import necessary modules and packages\n",
    "%matplotlib qt5\n",
    "import numpy as np\n",
    "import scipy.signal\n",
    "from matplotlib import pyplot as plt"
   ]
  },
  {
   "cell_type": "markdown",
   "id": "4b527c81",
   "metadata": {},
   "source": [
    "# Defining functions"
   ]
  },
  {
   "cell_type": "code",
   "execution_count": null,
   "id": "77bf53ca",
   "metadata": {},
   "outputs": [],
   "source": [
    "# BUTTER HIGHPASSFILTER\n",
    "def butter_highpass(cutoff, fs, order=5):\n",
    "    nyq = 0.5 * fs\n",
    "    normal_cutoff = cutoff / nyq\n",
    "    b, a = scipy.signal.butter(order, normal_cutoff, btype = \"high\", analog = False)\n",
    "    return b, a\n",
    "\n",
    "def butter_highpass_filter(data, cutoff, fs, order=5):\n",
    "    b, a = butter_highpass(cutoff, fs, order=order)\n",
    "    y = scipy.signal.filtfilt(b, a, data)\n",
    "    return y"
   ]
  },
  {
   "cell_type": "markdown",
   "id": "aca6ee95",
   "metadata": {},
   "source": [
    "# Load data and create time series"
   ]
  },
  {
   "cell_type": "code",
   "execution_count": null,
   "id": "5b499c55",
   "metadata": {},
   "outputs": [],
   "source": [
    "Displacements = np.loadtxt(open(\"filename\", \"rb\"), delimiter=\",\")\n",
    "points = np.loadtxt(open(\"filename\", \"rb\"), delimiter=\",\")\n",
    "\n",
    "# Sampling frequency/fps\n",
    "Fs = 220\n",
    "\n",
    "dt = 1/Fs\n",
    "T = dt*len(Displacements[0])\n",
    "t = np.linspace(0, T, len(Displacements[0]))"
   ]
  },
  {
   "cell_type": "markdown",
   "id": "c04b13b5",
   "metadata": {},
   "source": [
    "# Plot displacements "
   ]
  },
  {
   "cell_type": "code",
   "execution_count": null,
   "id": "c3eaad56",
   "metadata": {},
   "outputs": [],
   "source": [
    "#Plot Displacement \n",
    "if len(Displacements) == 1:\n",
    "    plt.figure()\n",
    "    plt.plot(t,Displacements[0])\n",
    "    plt.grid()\n",
    "    plt.xlabel('Time [s]')\n",
    "    plt.ylabel('Response [pixels]')\n",
    "    plt.title('Sensor 1')\n",
    "\n",
    "else:\n",
    "    # Plot in time domain\n",
    "    fig, axs = plt.subplots(len(Displacements))\n",
    "    plt.subplots_adjust(hspace=1)\n",
    "\n",
    "    for i in range(len(Displacements)):\n",
    "        axs[i].plot(t,Displacements[i])\n",
    "        axs[i].set_title(f\"sensor %d\" % i)\n",
    "        axs[i].set_xlabel('Time')\n",
    "        axs[i].set_ylabel('Response')\n",
    "        axs[i].grid()\n",
    "plt.show()"
   ]
  },
  {
   "cell_type": "markdown",
   "id": "7be4323f",
   "metadata": {},
   "source": [
    "# Estimate and plot spectrums using Welch' method and calculate coherence"
   ]
  },
  {
   "cell_type": "code",
   "execution_count": null,
   "id": "ab80fc3c",
   "metadata": {},
   "outputs": [],
   "source": [
    "# Apply butter highpass filter\n",
    "filtered_signal = butter_highpass_filter(Displacements, 1.5, Fs)\n",
    "\n",
    "# Estimate the spectrum using Welch' method\n",
    "\n",
    "# Smoothing of spectrum\n",
    "Nwelch=4 # Number of divisions of time series for averaging of spectrum\n",
    "Nwindow=np.floor(np.max(np.shape(Displacements[0]))/Nwelch); # Length of window\n",
    "\n",
    "#Empty variables\n",
    "Spectrum = {}\n",
    "peaks = {}\n",
    "Value = {}\n",
    "count = 0\n",
    "diag = []\n",
    "for n in range(len(Displacements)):   \n",
    "    # Estimate spectrums\n",
    "    for h in range(len(Displacements)):\n",
    "        f, Cross = scipy.signal.csd(filtered_signal[n], filtered_signal[h],Fs,nperseg=Nwindow)\n",
    "        Spectrum[count] = Cross \n",
    "        if n == h:\n",
    "            diag.append(count)   \n",
    "        count = count + 1   \n",
    "        \n",
    "# Coherence function\n",
    "Coher = []\n",
    "count_coher = 0\n",
    "# Find coherence \n",
    "for i in range(len(diag)):\n",
    "    for h in range(len(diag)):\n",
    "        coher = np.abs(Spectrum[count_coher])**2/(Spectrum[diag[i]]*Spectrum[diag[h]])\n",
    "        Coher.append(coher)\n",
    "        count_coher = count_coher + 1"
   ]
  },
  {
   "cell_type": "markdown",
   "id": "0cd59f5e",
   "metadata": {},
   "source": [
    "# Plot spectrums and coherence plot"
   ]
  },
  {
   "cell_type": "code",
   "execution_count": null,
   "id": "62a8aa35",
   "metadata": {},
   "outputs": [],
   "source": [
    "#Plot PSD in frequency domain    \n",
    "if len(Displacements) == 1:\n",
    "    plt.figure()\n",
    "    plt.plot(f,np.real(Spectrum[0]))\n",
    "    plt.grid()\n",
    "    plt.xlabel('f [Hz]')\n",
    "    plt.ylabel('PSD')\n",
    "    plt.title('Sensor 1')\n",
    "    #plt.yscale(\"log\")\n",
    "\n",
    "else:\n",
    "    fig, axs = plt.subplots(len(Displacements),len(Displacements))\n",
    "    plt.subplots_adjust(hspace=1)\n",
    "    count = 0\n",
    "    for b in range(len(Displacements)):\n",
    "        for k in range(len(Displacements)):\n",
    "            axs[b,k].plot(f,np.real(Spectrum[count]))\n",
    "            count=count+1\n",
    "            axs[b,k].set_title(f\"sensor %d %d\" %(b,k))\n",
    "            axs[b,k].grid()\n",
    "plt.show()\n",
    "\n",
    "# Plot coherence     \n",
    "fig, axs = plt.subplots(len(diag),len(diag))\n",
    "plt.subplots_adjust(hspace=1)\n",
    "count_coher=-1\n",
    "for b in range(len(diag)):\n",
    "    for k in range(len(diag)):\n",
    "        count_coher = count_coher + 1\n",
    "        if k !=b:\n",
    "            axs[b,k].plot(f,np.real(Coher[count_coher]))\n",
    "            axs[b,k].set_title(f\"sensor %d %d\" %(b,k))\n",
    "            axs[b,k].grid()  \n",
    "        else:\n",
    "            axs[b,k].plot(f,np.real(Spectrum[diag[b]]))\n",
    "            axs[b,k].set_title(f\"sensor %d %d\" %(b,k))\n",
    "            axs[b,k].grid()       \n",
    "plt.show()"
   ]
  },
  {
   "cell_type": "markdown",
   "id": "0a47261c",
   "metadata": {},
   "source": [
    "# Peak picking"
   ]
  },
  {
   "cell_type": "markdown",
   "id": "2f539c14",
   "metadata": {},
   "source": [
    "Use the computer mouse to pick the peaks that represent the natural frequencies. The peaks can be picked from every plot."
   ]
  },
  {
   "cell_type": "code",
   "execution_count": null,
   "id": "727d1402",
   "metadata": {},
   "outputs": [],
   "source": [
    "fig, axs = plt.subplots(len(diag),1)\n",
    "plt.subplots_adjust(hspace=1)\n",
    "count = 0\n",
    "for i in range(len(diag)):\n",
    "    axs[i].semilogy(f,np.real(Spectrum[diag[count]]))\n",
    "    count = count + 1\n",
    "    axs[i].grid()\n",
    "selected = plt.ginput(n=-1, timeout = 0)"
   ]
  },
  {
   "cell_type": "markdown",
   "id": "58f968ba",
   "metadata": {},
   "source": [
    "# Calculate and plot mode shapes"
   ]
  },
  {
   "cell_type": "code",
   "execution_count": null,
   "id": "eec0cc0d",
   "metadata": {
    "scrolled": true
   },
   "outputs": [],
   "source": [
    "val = input(\"Is the displacements in x- or y-direction?: \")\n",
    "Scale = float(input(\"How much would you like to amplify the Mode shapes?: \"))\n",
    "\n",
    "diff = []\n",
    "x_orig = []\n",
    "y_orig = []\n",
    "for i in range(len(points)):\n",
    "    if val =='x':\n",
    "        x_orig.append(points[i][0])\n",
    "        y_orig.append(-points[i][1])\n",
    "        diff.append(max(Displacements[i])-min(Displacements[i]))\n",
    "        max_value = max(diff)\n",
    "        max_index = diff.index(max_value)\n",
    "    else: \n",
    "        x_orig.append(points[i][0])\n",
    "        y_orig.append(points[i][1])\n",
    "        diff.append(max(Displacements[i])-min(Displacements[i]))\n",
    "        max_value = max(diff)\n",
    "        max_index = diff.index(max_value)\n",
    "\n",
    "#Find frequencies from chosen peaks\n",
    "Frequencies = []     \n",
    "for i in range(len(selected)):\n",
    "    Frequencies.append(selected[i][0])\n",
    "\n",
    "#Find index of nearest value\n",
    "index = []\n",
    "for k in range(len(Frequencies)):\n",
    "    difference_array = np.absolute(f-Frequencies[k])\n",
    "    index.append(difference_array.argmin())\n",
    "Variable = index\n",
    "\n",
    "#Find mode shapes\n",
    "ModeShapes = np.zeros([len(Frequencies),len(points)]) # Create empty mode shapes\n",
    "\n",
    "for k in range(len(Frequencies)):\n",
    "    count = max_index\n",
    "    for m in range(len(points)-1):\n",
    "        ModeShapes[k][m] = np.sqrt(np.real(Spectrum[diag[m]][Variable[k]])/np.real(Spectrum[diag[max_index]][Variable[k]]))*np.sign(np.real(Spectrum[count][Variable[k]]))\n",
    "        count = count+len(points)  \n",
    "\n",
    "#Scale mode shapes\n",
    "ModeShapes = ModeShapes*Scale\n",
    "\n",
    "#Create x_values for plotting undeformed shape\n",
    "x_point = round(np.mean(x_orig))\n",
    "x_coordinates_orig = []\n",
    "for i in range(len(x_orig)):\n",
    "    x_coordinates_orig.append(x_point)\n",
    "\n",
    "#Plot mode shapes\n",
    "for n in range(len(Frequencies)):\n",
    "    x_points=[]\n",
    "    y_points=[]\n",
    "    plt.figure()\n",
    "    plt.grid()\n",
    "    plt.title(\"Modeshape frequency. %f Hz.\" %Frequencies[n] + \"  Scaled by %i\"  %Scale )\n",
    "    for p in range(len(points)):\n",
    "        if val == 'x':\n",
    "            x_points.append(ModeShapes[n][p]+points[p][0])\n",
    "            y_points.append(-points[p][1])\n",
    "        else:\n",
    "            y_points.append(ModeShapes[n][p]+points[p][1])\n",
    "            x_points.append(points[p][0])\n",
    "            \n",
    "    x_points[len(x_points)-1] = x_coordinates_orig[0]\n",
    "    plt.plot(x_points, y_points, 'o', linestyle=\"-\", color='orange', label='Mode shape')\n",
    "    plt.plot(x_coordinates_orig, y_orig, 'o', linestyle=\"-\", color='black', label='Original Shape')\n",
    "    plt.legend()"
   ]
  },
  {
   "cell_type": "markdown",
   "id": "25fbea2a",
   "metadata": {},
   "source": [
    "# Short time Fourier transform"
   ]
  },
  {
   "cell_type": "code",
   "execution_count": null,
   "id": "3c0b2c01",
   "metadata": {},
   "outputs": [],
   "source": [
    "# Short time Fourier transfomrs\n",
    "Signal_stft = butter_highpass_filter(Displacements, 1.5, Fs)\n",
    "\n",
    "amp = 0.005\n",
    "f, t, Zxx = scipy.signal.stft(Signal_stft[0], Fs, nperseg=1000)\n",
    "\n",
    "figsize = np.array([1, 1/1.618]) * 11/2.5\n",
    "fig, ax = plt.subplots(figsize=figsize, dpi=300)\n",
    "ax.pcolormesh(t, f, np.abs(Zxx), vmin=0, vmax=amp, shading='gouraud')\n",
    "\n",
    "plt.title('STFT Magnitude')\n",
    "plt.ylabel('Frequency [Hz]')\n",
    "plt.xlabel('Time [sec]')\n",
    "plt.tight_layout()"
   ]
  }
 ],
 "metadata": {
  "kernelspec": {
   "display_name": "Python 3 (ipykernel)",
   "language": "python",
   "name": "python3"
  },
  "language_info": {
   "codemirror_mode": {
    "name": "ipython",
    "version": 3
   },
   "file_extension": ".py",
   "mimetype": "text/x-python",
   "name": "python",
   "nbconvert_exporter": "python",
   "pygments_lexer": "ipython3",
   "version": "3.9.7"
  }
 },
 "nbformat": 4,
 "nbformat_minor": 5
}
